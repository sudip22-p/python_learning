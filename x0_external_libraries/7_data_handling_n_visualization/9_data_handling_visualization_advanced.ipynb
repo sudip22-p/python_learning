{
 "cells": [
  {
   "cell_type": "markdown",
   "id": "027c1feb-0c17-4e9d-9208-e23bfb283e1c",
   "metadata": {},
   "source": [
    "# Advanced Data Handling and Visualization\n",
    "\n",
    "In this notebook, we cover missing data handling, filtering, grouping, and multiple visualization types.\n"
   ]
  },
  {
   "cell_type": "code",
   "execution_count": 1,
   "id": "1be4648b-c487-458e-86c2-7c30bba2fbd9",
   "metadata": {},
   "outputs": [
    {
     "data": {
      "text/plain": [
       "Name          object\n",
       "Age            int64\n",
       "Department    object\n",
       "Salary         int64\n",
       "Experience     int64\n",
       "dtype: object"
      ]
     },
     "execution_count": 1,
     "metadata": {},
     "output_type": "execute_result"
    }
   ],
   "source": [
    "import pandas as pd\n",
    "import matplotlib.pyplot as plt\n",
    "import numpy as np\n",
    "\n",
    "df = pd.read_csv(\"data.csv\")\n",
    "df.dtypes\n"
   ]
  },
  {
   "cell_type": "code",
   "execution_count": 2,
   "id": "e82565e1-9a07-47eb-9cae-504c77bef7d3",
   "metadata": {},
   "outputs": [
    {
     "data": {
      "text/html": [
       "<div>\n",
       "<style scoped>\n",
       "    .dataframe tbody tr th:only-of-type {\n",
       "        vertical-align: middle;\n",
       "    }\n",
       "\n",
       "    .dataframe tbody tr th {\n",
       "        vertical-align: top;\n",
       "    }\n",
       "\n",
       "    .dataframe thead th {\n",
       "        text-align: right;\n",
       "    }\n",
       "</style>\n",
       "<table border=\"1\" class=\"dataframe\">\n",
       "  <thead>\n",
       "    <tr style=\"text-align: right;\">\n",
       "      <th></th>\n",
       "      <th>Name</th>\n",
       "      <th>Age</th>\n",
       "      <th>Department</th>\n",
       "      <th>Salary</th>\n",
       "      <th>Experience</th>\n",
       "    </tr>\n",
       "  </thead>\n",
       "  <tbody>\n",
       "    <tr>\n",
       "      <th>0</th>\n",
       "      <td>Alice</td>\n",
       "      <td>28.0</td>\n",
       "      <td>Engineering</td>\n",
       "      <td>75000.0</td>\n",
       "      <td>3</td>\n",
       "    </tr>\n",
       "    <tr>\n",
       "      <th>1</th>\n",
       "      <td>Bob</td>\n",
       "      <td>34.0</td>\n",
       "      <td>Marketing</td>\n",
       "      <td>62000.0</td>\n",
       "      <td>6</td>\n",
       "    </tr>\n",
       "    <tr>\n",
       "      <th>2</th>\n",
       "      <td>Charlie</td>\n",
       "      <td>25.0</td>\n",
       "      <td>Engineering</td>\n",
       "      <td>NaN</td>\n",
       "      <td>2</td>\n",
       "    </tr>\n",
       "    <tr>\n",
       "      <th>3</th>\n",
       "      <td>David</td>\n",
       "      <td>45.0</td>\n",
       "      <td>HR</td>\n",
       "      <td>68000.0</td>\n",
       "      <td>15</td>\n",
       "    </tr>\n",
       "    <tr>\n",
       "      <th>4</th>\n",
       "      <td>Eve</td>\n",
       "      <td>30.0</td>\n",
       "      <td>Marketing</td>\n",
       "      <td>64000.0</td>\n",
       "      <td>5</td>\n",
       "    </tr>\n",
       "  </tbody>\n",
       "</table>\n",
       "</div>"
      ],
      "text/plain": [
       "      Name   Age   Department   Salary  Experience\n",
       "0    Alice  28.0  Engineering  75000.0           3\n",
       "1      Bob  34.0    Marketing  62000.0           6\n",
       "2  Charlie  25.0  Engineering      NaN           2\n",
       "3    David  45.0           HR  68000.0          15\n",
       "4      Eve  30.0    Marketing  64000.0           5"
      ]
     },
     "execution_count": 2,
     "metadata": {},
     "output_type": "execute_result"
    }
   ],
   "source": [
    "# Introduce missing values artificially for demo\n",
    "df.loc[2, \"Salary\"] = np.nan\n",
    "df.loc[5, \"Age\"] = np.nan\n",
    "\n",
    "df.head()\n"
   ]
  },
  {
   "cell_type": "code",
   "execution_count": 7,
   "id": "10306e15-7f3c-4a43-b9d3-b1f6b67b4320",
   "metadata": {},
   "outputs": [
    {
     "data": {
      "text/plain": [
       "Name          0\n",
       "Age           0\n",
       "Department    0\n",
       "Salary        0\n",
       "Experience    0\n",
       "dtype: int64"
      ]
     },
     "execution_count": 7,
     "metadata": {},
     "output_type": "execute_result"
    }
   ],
   "source": [
    "# Handle missing data by filling with median\n",
    "df[\"Salary\"] = df[\"Salary\"].fillna(df[\"Salary\"].median())\n",
    "df[\"Age\"] = df[\"Age\"].fillna(df[\"Age\"].median())\n",
    "\n",
    "df.isnull().sum()\n"
   ]
  },
  {
   "cell_type": "code",
   "execution_count": 4,
   "id": "c3e9bc94-7ab8-453e-8844-b90e2f349f9a",
   "metadata": {},
   "outputs": [
    {
     "data": {
      "text/html": [
       "<div>\n",
       "<style scoped>\n",
       "    .dataframe tbody tr th:only-of-type {\n",
       "        vertical-align: middle;\n",
       "    }\n",
       "\n",
       "    .dataframe tbody tr th {\n",
       "        vertical-align: top;\n",
       "    }\n",
       "\n",
       "    .dataframe thead th {\n",
       "        text-align: right;\n",
       "    }\n",
       "</style>\n",
       "<table border=\"1\" class=\"dataframe\">\n",
       "  <thead>\n",
       "    <tr style=\"text-align: right;\">\n",
       "      <th></th>\n",
       "      <th>Name</th>\n",
       "      <th>Age</th>\n",
       "      <th>Department</th>\n",
       "      <th>Salary</th>\n",
       "      <th>Experience</th>\n",
       "    </tr>\n",
       "  </thead>\n",
       "  <tbody>\n",
       "    <tr>\n",
       "      <th>5</th>\n",
       "      <td>Frank</td>\n",
       "      <td>30.0</td>\n",
       "      <td>Engineering</td>\n",
       "      <td>88000.0</td>\n",
       "      <td>20</td>\n",
       "    </tr>\n",
       "    <tr>\n",
       "      <th>3</th>\n",
       "      <td>David</td>\n",
       "      <td>45.0</td>\n",
       "      <td>HR</td>\n",
       "      <td>68000.0</td>\n",
       "      <td>15</td>\n",
       "    </tr>\n",
       "    <tr>\n",
       "      <th>8</th>\n",
       "      <td>Ivan</td>\n",
       "      <td>38.0</td>\n",
       "      <td>Marketing</td>\n",
       "      <td>66000.0</td>\n",
       "      <td>10</td>\n",
       "    </tr>\n",
       "    <tr>\n",
       "      <th>7</th>\n",
       "      <td>Heidi</td>\n",
       "      <td>31.0</td>\n",
       "      <td>Engineering</td>\n",
       "      <td>72000.0</td>\n",
       "      <td>6</td>\n",
       "    </tr>\n",
       "    <tr>\n",
       "      <th>0</th>\n",
       "      <td>Alice</td>\n",
       "      <td>28.0</td>\n",
       "      <td>Engineering</td>\n",
       "      <td>75000.0</td>\n",
       "      <td>3</td>\n",
       "    </tr>\n",
       "    <tr>\n",
       "      <th>2</th>\n",
       "      <td>Charlie</td>\n",
       "      <td>25.0</td>\n",
       "      <td>Engineering</td>\n",
       "      <td>66000.0</td>\n",
       "      <td>2</td>\n",
       "    </tr>\n",
       "  </tbody>\n",
       "</table>\n",
       "</div>"
      ],
      "text/plain": [
       "      Name   Age   Department   Salary  Experience\n",
       "5    Frank  30.0  Engineering  88000.0          20\n",
       "3    David  45.0           HR  68000.0          15\n",
       "8     Ivan  38.0    Marketing  66000.0          10\n",
       "7    Heidi  31.0  Engineering  72000.0           6\n",
       "0    Alice  28.0  Engineering  75000.0           3\n",
       "2  Charlie  25.0  Engineering  66000.0           2"
      ]
     },
     "execution_count": 4,
     "metadata": {},
     "output_type": "execute_result"
    }
   ],
   "source": [
    "# Filter employees with Salary > 65000 and sort by Experience\n",
    "filtered = df[df[\"Salary\"] > 65000].sort_values(\"Experience\", ascending=False)\n",
    "filtered\n"
   ]
  },
  {
   "cell_type": "code",
   "execution_count": 5,
   "id": "71a141d4-8e74-435c-88e0-beca03ddbc42",
   "metadata": {},
   "outputs": [
    {
     "data": {
      "text/html": [
       "<div>\n",
       "<style scoped>\n",
       "    .dataframe tbody tr th:only-of-type {\n",
       "        vertical-align: middle;\n",
       "    }\n",
       "\n",
       "    .dataframe tbody tr th {\n",
       "        vertical-align: top;\n",
       "    }\n",
       "\n",
       "    .dataframe thead th {\n",
       "        text-align: right;\n",
       "    }\n",
       "</style>\n",
       "<table border=\"1\" class=\"dataframe\">\n",
       "  <thead>\n",
       "    <tr style=\"text-align: right;\">\n",
       "      <th></th>\n",
       "      <th>Salary</th>\n",
       "      <th>Experience</th>\n",
       "    </tr>\n",
       "    <tr>\n",
       "      <th>Department</th>\n",
       "      <th></th>\n",
       "      <th></th>\n",
       "    </tr>\n",
       "  </thead>\n",
       "  <tbody>\n",
       "    <tr>\n",
       "      <th>Engineering</th>\n",
       "      <td>75250.000000</td>\n",
       "      <td>31</td>\n",
       "    </tr>\n",
       "    <tr>\n",
       "      <th>HR</th>\n",
       "      <td>62333.333333</td>\n",
       "      <td>22</td>\n",
       "    </tr>\n",
       "    <tr>\n",
       "      <th>Marketing</th>\n",
       "      <td>64000.000000</td>\n",
       "      <td>21</td>\n",
       "    </tr>\n",
       "  </tbody>\n",
       "</table>\n",
       "</div>"
      ],
      "text/plain": [
       "                   Salary  Experience\n",
       "Department                           \n",
       "Engineering  75250.000000          31\n",
       "HR           62333.333333          22\n",
       "Marketing    64000.000000          21"
      ]
     },
     "execution_count": 5,
     "metadata": {},
     "output_type": "execute_result"
    }
   ],
   "source": [
    "# Group by Department: average salary and total experience\n",
    "grouped = df.groupby(\"Department\").agg({\"Salary\": \"mean\", \"Experience\": \"sum\"})\n",
    "grouped\n"
   ]
  },
  {
   "cell_type": "code",
   "execution_count": 6,
   "id": "a3c50f83-9c3d-46bf-af52-b0371f1f910b",
   "metadata": {},
   "outputs": [
    {
     "data": {
      "image/png": "[encoded data removed]",
      "text/plain": [
       "<Figure size 1500x400 with 3 Axes>"
      ]
     },
     "metadata": {},
     "output_type": "display_data"
    }
   ],
   "source": [
    "# Multiple plots in one cell\n",
    "plt.figure(figsize=(15,4))\n",
    "\n",
    "plt.subplot(1,3,1)\n",
    "df[\"Age\"].plot(kind=\"hist\", bins=5, title=\"Age Distribution\")\n",
    "plt.xlabel(\"Age\")\n",
    "\n",
    "plt.subplot(1,3,2)\n",
    "grouped[\"Salary\"].plot(kind=\"bar\", title=\"Avg Salary by Dept\")\n",
    "plt.ylabel(\"Salary\")\n",
    "\n",
    "plt.subplot(1,3,3)\n",
    "df.plot(kind=\"scatter\", x=\"Experience\", y=\"Salary\", title=\"Salary vs Experience\", ax=plt.gca())\n",
    "\n",
    "plt.tight_layout()\n",
    "plt.show()\n"
   ]
  },
  {
   "cell_type": "code",
   "execution_count": 8,
   "id": "70218478-8b46-4469-8dfe-1e7ec012ef9b",
   "metadata": {},
   "outputs": [],
   "source": [
    "plt.close()"
   ]
  },
  {
   "cell_type": "code",
   "execution_count": null,
   "id": "6962489d-41ce-4053-b5d6-b957ae17d98d",
   "metadata": {},
   "outputs": [],
   "source": []
  }
 ],
 "metadata": {
  "kernelspec": {
   "display_name": "Python 3 (ipykernel)",
   "language": "python",
   "name": "python3"
  },
  "language_info": {
   "codemirror_mode": {
    "name": "ipython",
    "version": 3
   },
   "file_extension": ".py",
   "mimetype": "text/x-python",
   "name": "python",
   "nbconvert_exporter": "python",
   "pygments_lexer": "ipython3",
   "version": "3.12.3"
  }
 },
 "nbformat": 4,
 "nbformat_minor": 5
}
